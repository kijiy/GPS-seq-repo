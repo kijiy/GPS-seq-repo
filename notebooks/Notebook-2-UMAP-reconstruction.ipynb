{
 "cells": [
  {
   "cell_type": "markdown",
   "id": "upset-hybrid",
   "metadata": {},
   "source": [
    "# Reconstruct Positions with UMAP\n",
    "\n",
    "In this notebook, we demonstrate how UMAP can be used to reconstruct positions at single cell resolution on the simulated data. We provide examples of reconstructions on a uniform grid and ground-truth positions from the Slide-seq kidney dataset as well for the two variations shown in the supplement - satellite dispersion through e.Coli colonies and anisotropic diffusion."
   ]
  },
  {
   "cell_type": "code",
   "execution_count": 1,
   "id": "primary-trick",
   "metadata": {},
   "outputs": [],
   "source": [
    "import anndata\n",
    "import umap\n",
    "import sys\n",
    "import numpy as np\n",
    "import sklearn\n",
    "from matplotlib import pyplot as plt\n",
    "\n",
    "sys.path.append(\"../functions/\")\n",
    "import alignment\n",
    "import visuals"
   ]
  },
  {
   "cell_type": "code",
   "execution_count": 2,
   "id": "adjustable-result",
   "metadata": {},
   "outputs": [],
   "source": [
    "# Set parameters\n",
    "SAMPLE = 'kidney_140rpb' # Read per bead distribution, cacluated from Slide-seq samples\n",
    "SATELLIES = 10**5        # Satellites per cm2\n",
    "SIGMA_UM = 50            # Width of the diffusion kernel\n",
    "BEADWIDTH = 10"
   ]
  },
  {
   "cell_type": "markdown",
   "id": "reasonable-penny",
   "metadata": {},
   "source": [
    "### Uniform Grid"
   ]
  },
  {
   "cell_type": "code",
   "execution_count": 3,
   "id": "afraid-kitty",
   "metadata": {},
   "outputs": [],
   "source": [
    "# Load the data\n",
    "adata = anndata.read_h5ad('../data/adata/{}_satellites={}_sigma={}.h5ad'.format(SAMPLE, SATELLIES, SIGMA_UM))\n",
    "n = np.sqrt(adata.shape[0])"
   ]
  },
  {
   "cell_type": "markdown",
   "id": "buried-adaptation",
   "metadata": {},
   "source": [
    "First, we row-normalize the data so that cell $[i,j]$ represents the proportion of reads for bead $i$ that come from satellite $j$. This makes the read vectors similar for nearby beads that differed in bead quality. We then pass the normalized coordinates to UMAP, using the Euclidean distance and hyperparameters that were selected using a simple grid search. See the supplement for more information on hyperparameter selection. \n",
    "\n",
    "Instead of row-normalizing the data and using the Euclidean distance, you can try using the cosine similarity which only depends on the angle between the vectors. However, in experiments we found that normalizing and using the Euclidean distance resulted in marginally better reconstructions."
   ]
  },
  {
   "cell_type": "code",
   "execution_count": null,
   "id": "handmade-mistake",
   "metadata": {
    "scrolled": false
   },
   "outputs": [
    {
     "name": "stdout",
     "output_type": "stream",
     "text": [
      "UMAP(min_dist=0.75, n_epochs=2000, n_neighbors=60, random_state=0, unique=True,\n",
      "     verbose=True)\n"
     ]
    },
    {
     "name": "stderr",
     "output_type": "stream",
     "text": [
      "/mnt/geofflab/jupyterhub/anaconda3/lib/python3.7/site-packages/numpy/lib/arraysetops.py:270: VisibleDeprecationWarning: Creating an ndarray from ragged nested sequences (which is a list-or-tuple of lists-or-tuples-or ndarrays with different lengths or shapes) is deprecated. If you meant to do this, you must specify 'dtype=object' when creating the ndarray.\n",
      "  ar = np.asanyarray(ar)\n"
     ]
    },
    {
     "name": "stdout",
     "output_type": "stream",
     "text": [
      "Unique=True -> Number of data points reduced from  99856  to  99802\n",
      "Most common duplicate is 63157  with a count of  3\n",
      "Construct fuzzy simplicial set\n",
      "Tue Aug 23 19:36:30 2022 Finding Nearest Neighbors\n",
      "Tue Aug 23 19:36:30 2022 Building RP forest with 21 trees\n",
      "Tue Aug 23 19:39:45 2022 metric NN descent for 17 iterations\n",
      "\t 0  /  17\n"
     ]
    }
   ],
   "source": [
    "# Normalize the data and run UMAP\n",
    "adata.X = sklearn.preprocessing.normalize(adata.X, norm='l1')\n",
    "mapper = umap.UMAP(n_neighbors=60, metric='euclidean', random_state=0, n_epochs=2000, min_dist=0.75, unique=True, verbose=True)\n",
    "coords = mapper.fit_transform(adata.X)"
   ]
  },
  {
   "cell_type": "markdown",
   "id": "charged-enemy",
   "metadata": {},
   "source": [
    "Since the sBC counts only give information about relative position, the embedding may be translated, shrunken, expanded, rotated, or flipped relative to the ground truth. To compare to the ground truth, we optimize for the best alignment of a simple linear transformation of the embedding. "
   ]
  },
  {
   "cell_type": "code",
   "execution_count": null,
   "id": "iraqi-partnership",
   "metadata": {},
   "outputs": [],
   "source": [
    "# Align the UMAP with the ground-truth using a simple linear transformation\n",
    "ground_truth = np.array([adata.obs.x, adata.obs.y]).T\n",
    "dist_gt, aligned_coords, transf = alignment.align(coords, ground_truth, rel_scale=1)\n",
    "dist_gt = dist_gt*n*BEADWIDTH # Scale distance to ground truth to um"
   ]
  },
  {
   "cell_type": "markdown",
   "id": "primary-semiconductor",
   "metadata": {},
   "source": [
    "Finally, we can compare the reconstruction to the ground truth. First, we visualize the reconstruction showing the ground truth coordinates (left) and the reconstruction (center) on a colored background with radial lines and with beads colored by distance to the ground truth (left). Second, we visualize the complementary cumulative distribution, or the proportion of beads with a reconstruction distance beyond a given distance with dashed lines indicating 50% and 90% of beads having a reconstruction distance below that value. For the example parameters, 50% of beads are within 19 $\\mu m$ of the ground truth while 90% are within 40 $\\mu m$."
   ]
  },
  {
   "cell_type": "code",
   "execution_count": null,
   "id": "subsequent-africa",
   "metadata": {},
   "outputs": [],
   "source": [
    "# Visually compare the reconstruction to the ground truth\n",
    "visuals.ground_truth_comparison(adata, aligned_coords, dist_gt)"
   ]
  },
  {
   "cell_type": "code",
   "execution_count": null,
   "id": "coral-beginning",
   "metadata": {},
   "outputs": [],
   "source": [
    "# Plot the complementary cummulative distribution\n",
    "visuals.complementary_cummulative_distribution(dist_gt, max_dist=140)"
   ]
  },
  {
   "cell_type": "markdown",
   "id": "clean-alberta",
   "metadata": {},
   "source": [
    "### Slide-seq Kidney Positions\n",
    "\n",
    "Here we repeat the reconstruction for the simulated data using ground-truth positions from the Slide-seq kidney sample."
   ]
  },
  {
   "cell_type": "code",
   "execution_count": null,
   "id": "numeric-interest",
   "metadata": {},
   "outputs": [],
   "source": [
    "# Load the data\n",
    "adata = anndata.read_h5ad('../data/adata/{}_satellites={}_sigma={}_slideseq_kidney_positions.h5ad'.format(SAMPLE, SATELLIES, SIGMA_UM))\n",
    "n = np.sqrt(adata.shape[0])"
   ]
  },
  {
   "cell_type": "code",
   "execution_count": null,
   "id": "minus-thong",
   "metadata": {},
   "outputs": [],
   "source": [
    "# Normalize the data and run UMAP\n",
    "adata.X = sklearn.preprocessing.normalize(adata.X, norm='l1')\n",
    "mapper = umap.UMAP(n_neighbors=60, metric='euclidean', random_state=0, n_epochs=2000, min_dist=0.75, unique=True, verbose=True)\n",
    "coords = mapper.fit_transform(adata.X)"
   ]
  },
  {
   "cell_type": "code",
   "execution_count": null,
   "id": "spatial-sound",
   "metadata": {},
   "outputs": [],
   "source": [
    "# Align the UMAP with the ground-truth using a simple linear transformation\n",
    "ground_truth = np.array([adata.obs.x, adata.obs.y]).T\n",
    "dist_gt, aligned_coords, transf = alignment.align(coords, ground_truth, rel_scale=1)\n",
    "dist_gt = dist_gt*n*BEADWIDTH # Scale distance to ground truth to um"
   ]
  },
  {
   "cell_type": "markdown",
   "id": "neither-recognition",
   "metadata": {},
   "source": [
    "Again, we can compare the results visually and quantitatively. In this case, we see the reconstruction is slightly improved for the Slide-seq ground truth positions, achieving a meadian distance to the ground truth of 12 $\\mu m$."
   ]
  },
  {
   "cell_type": "code",
   "execution_count": null,
   "id": "searching-anthony",
   "metadata": {},
   "outputs": [],
   "source": [
    "# Visually compare the reconstruction to the ground truth\n",
    "visuals.ground_truth_comparison(adata, aligned_coords, max_dist=dist_gt)"
   ]
  },
  {
   "cell_type": "code",
   "execution_count": null,
   "id": "touched-motion",
   "metadata": {},
   "outputs": [],
   "source": [
    "# Plot the complementary cummulative distribution\n",
    "visuals.complementary_cummulative_distribution(dist_gt, max_dist=140)"
   ]
  },
  {
   "cell_type": "markdown",
   "id": "supreme-story",
   "metadata": {},
   "source": [
    "## Supplemental Methods\n",
    "Here we reproduce the reconstructions for two additional scenarios - using e.Coli colonies to disperse satellite barcodes and standard satellite dispersion with anisotropic diffusion. "
   ]
  },
  {
   "cell_type": "markdown",
   "id": "answering-lease",
   "metadata": {},
   "source": [
    "### Bacterial Colonies as Satellites"
   ]
  },
  {
   "cell_type": "code",
   "execution_count": null,
   "id": "furnished-philippines",
   "metadata": {},
   "outputs": [],
   "source": [
    "# Load the data\n",
    "adata = anndata.read_h5ad('../data/adata/{}_satellites={}_sigma={}_irregular_colonies.h5ad'.format(SAMPLE, SATELLIES, SIGMA_UM))\n",
    "n = np.sqrt(adata.shape[0])"
   ]
  },
  {
   "cell_type": "code",
   "execution_count": null,
   "id": "wireless-implement",
   "metadata": {},
   "outputs": [],
   "source": [
    "# Normalize the data and run UMAP\n",
    "adata.X = sklearn.preprocessing.normalize(adata.X, norm='l1')\n",
    "mapper = umap.UMAP(n_neighbors=60, metric='euclidean', random_state=0, n_epochs=2000, min_dist=0.75, unique=True, verbose=True)\n",
    "coords = mapper.fit_transform(adata.X)"
   ]
  },
  {
   "cell_type": "code",
   "execution_count": null,
   "id": "disabled-ethiopia",
   "metadata": {},
   "outputs": [],
   "source": [
    "# Align the UMAP with the ground-truth using a simple linear transformation\n",
    "ground_truth = np.array([adata.obs.x, adata.obs.y]).T\n",
    "dist_gt, aligned_coords, transf = alignment.align(coords, ground_truth, rel_scale=1)\n",
    "dist_gt = dist_gt*n*BEADWIDTH # Scale distance to ground truth to um"
   ]
  },
  {
   "cell_type": "code",
   "execution_count": null,
   "id": "impressed-collectible",
   "metadata": {},
   "outputs": [],
   "source": [
    "# Visually compare the reconstruction to the ground truth\n",
    "visuals.ground_truth_comparison(adata, aligned_coords, dist_gt)"
   ]
  },
  {
   "cell_type": "code",
   "execution_count": null,
   "id": "bigger-tattoo",
   "metadata": {},
   "outputs": [],
   "source": [
    "# Plot the complementary cummulative distribution\n",
    "visuals.complementary_cummulative_distribution(dist_gt, max_dist=140)"
   ]
  }
 ],
 "metadata": {
  "finalized": {
   "timestamp": 1661198786828,
   "trusted": false
  },
  "hide_input": false,
  "kernelspec": {
   "display_name": "Python 3",
   "language": "python",
   "name": "python3"
  },
  "language_info": {
   "codemirror_mode": {
    "name": "ipython",
    "version": 3
   },
   "file_extension": ".py",
   "mimetype": "text/x-python",
   "name": "python",
   "nbconvert_exporter": "python",
   "pygments_lexer": "ipython3",
   "version": "3.7.9"
  }
 },
 "nbformat": 4,
 "nbformat_minor": 5
}
