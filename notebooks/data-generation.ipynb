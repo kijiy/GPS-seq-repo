{
 "cells": [
  {
   "cell_type": "markdown",
   "id": "talented-champion",
   "metadata": {},
   "source": [
    "### Generate Data\n",
    "Generate a sBC count matrix for a dense grid of 100,000 beads using the Slide-seq Kidney dataset bead qualities downsampled to a median of 50 UMI/ 140 reads per bead."
   ]
  },
  {
   "cell_type": "code",
   "execution_count": 4,
   "id": "brave-caribbean",
   "metadata": {},
   "outputs": [],
   "source": [
    "import numpy as np\n",
    "import pandas as pd\n",
    "import anndata\n",
    "import math\n",
    "\n",
    "import sys\n",
    "sys.path.append(\"../functions/\")\n",
    "import barcode_sampling\n",
    "import utils"
   ]
  },
  {
   "cell_type": "code",
   "execution_count": 5,
   "id": "superior-nickel",
   "metadata": {},
   "outputs": [],
   "source": [
    "# Define parameters for the run\n",
    "SEED = 42\n",
    "RNG = np.random.default_rng(SEED)\n",
    "NUM_PROC = 32\n",
    "\n",
    "SATELLITES_PER_CM2 = 10**5\n",
    "SIGMA_UM = 50 # Sigma for the satellite diffusion Gaussians in um\n",
    "SAMPLE = 'kidney_140rpb'\n",
    "\n",
    "BEADS_PER_CM2 = 10**6\n",
    "AREA_CM2 = 0.1\n",
    "\n",
    "BEADS = int(BEADS_PER_CM2 * AREA_CM2)\n",
    "SATELLITES = int(SATELLITES_PER_CM2 * AREA_CM2)\n",
    "n = np.floor(np.sqrt(BEADS))\n",
    "# Standard deviation for the Gaussian modelling diffusion around a satellite\n",
    "# Divide by n*10 to account for our simulation being on a unit square\n",
    "SIGMA = SIGMA_UM/(n*10) \n",
    "\n",
    "# Factor by which satellites should extended past beads, this reduces edge effects from beads along the\n",
    "# edge getting fewer reads\n",
    "SATELLITE_EXT = 0.05"
   ]
  },
  {
   "cell_type": "code",
   "execution_count": 6,
   "id": "virgin-barrier",
   "metadata": {},
   "outputs": [],
   "source": [
    "# Generate random colonies on a unit square and beads on a grid\n",
    "y,x = np.meshgrid(np.arange(0,n), np.arange(0,n))\n",
    "y = y.flatten()\n",
    "x = x.flatten()\n",
    "bead_coords = np.array([x/max(x), y/max(y)]).T\n",
    "satellite_coords = RNG.random((int((SATELLITES)*((1+2*SATELLITE_EXT)**2)), 2))*(1 + 2*SATELLITE_EXT) - SATELLITE_EXT\n",
    "\n",
    "beads_df = pd.DataFrame(data=bead_coords, columns=['x', 'y'])\n",
    "satellites_df = pd.DataFrame(data=satellite_coords, columns=['x', 'y'])"
   ]
  },
  {
   "cell_type": "code",
   "execution_count": 7,
   "id": "caring-moscow",
   "metadata": {},
   "outputs": [
    {
     "name": "stderr",
     "output_type": "stream",
     "text": [
      "100%|██████████| 99856/99856 [00:11<00:00, 8906.11it/s]\n"
     ]
    },
    {
     "name": "stdout",
     "output_type": "stream",
     "text": [
      "Matrix build time: 11.82694959640503\n"
     ]
    }
   ],
   "source": [
    "# Load the bead-quality and barcode overlap distributions\n",
    "reads_dist = pd.read_csv('../data/bead-quality-distributions/{}.csv'.format(SAMPLE), index_col=0)\n",
    "overlap_dist = pd.read_csv('../data/barcode-distribution.csv', index_col=0)\n",
    "\n",
    "# Generate the read matrix\n",
    "satellite_counts = barcode_sampling.get_colony_counts(SIGMA, bead_coords, satellite_coords,\n",
    "                                                     num_proc=NUM_PROC,\n",
    "                                                     overlap_dist=overlap_dist['Dist'],\n",
    "                                                     reads_dist=reads_dist,\n",
    "                                                     chunksize=30000,\n",
    "                                                     scaling=False)"
   ]
  },
  {
   "cell_type": "code",
   "execution_count": 8,
   "id": "confused-raising",
   "metadata": {},
   "outputs": [
    {
     "name": "stderr",
     "output_type": "stream",
     "text": [
      "/mnt/geofflab/jupyterhub/anaconda3/lib/python3.7/site-packages/anndata/_core/anndata.py:120: ImplicitModificationWarning: Transforming to str index.\n",
      "  warnings.warn(\"Transforming to str index.\", ImplicitModificationWarning)\n",
      "... storing 'spatial_color' as categorical\n"
     ]
    }
   ],
   "source": [
    "# Create and save the adata\n",
    "adata = anndata.AnnData(X=satellite_counts, obs=beads_df, var=pd.DataFrame(index=range(satellite_counts.shape[1])), dtype=np.int32)\n",
    "adata.obs['spatial_color'] = utils.radial_color(adata.obs.x, adata.obs.y, x0=0.5, y0=0.5)\n",
    "adata.write_h5ad('../data/adata/{}_satellites={}_sigma={}.h5ad'.format(SAMPLE, SATELLITES_PER_CM2, SIGMA_UM))"
   ]
  }
 ],
 "metadata": {
  "hide_input": false,
  "kernelspec": {
   "display_name": "Python 3",
   "language": "python",
   "name": "python3"
  },
  "language_info": {
   "codemirror_mode": {
    "name": "ipython",
    "version": 3
   },
   "file_extension": ".py",
   "mimetype": "text/x-python",
   "name": "python",
   "nbconvert_exporter": "python",
   "pygments_lexer": "ipython3",
   "version": "3.7.9"
  }
 },
 "nbformat": 4,
 "nbformat_minor": 5
}
