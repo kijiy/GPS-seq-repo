{
 "cells": [
  {
   "cell_type": "markdown",
   "id": "talented-champion",
   "metadata": {},
   "source": [
    "# Data Generation\n",
    "In this notebook, we simulate satellite reads (sBCs) for beads arranged uniformly in a grid as well as using ground-truth positions from the kidney sample in the Slide-seq dataset [Rodriques et al., 2019](https://www.science.org/doi/10.1126/science.aaw1219). Additonally, we demonstrate data generation for the two scenarios included in the supplement - satellite dispersion through e.Coli colonies and anisotropic diffusion."
   ]
  },
  {
   "cell_type": "code",
   "execution_count": 1,
   "id": "brave-caribbean",
   "metadata": {},
   "outputs": [],
   "source": [
    "import numpy as np\n",
    "import pandas as pd\n",
    "import anndata\n",
    "import math\n",
    "from matplotlib import pyplot as plt\n",
    "\n",
    "import sys\n",
    "sys.path.append(\"../functions/\")\n",
    "import simulate\n",
    "import visuals"
   ]
  },
  {
   "cell_type": "markdown",
   "id": "appointed-office",
   "metadata": {},
   "source": [
    "First we define the parameters for the simulations. For all simulations, we need to define the satellite density, the width of the diffusion kernel, and the sample we want to use for our experimental reads per bead distribution. The read per bead distribution determines the sampling depth. For the uniform grid, we also specify the size of area to simulate. By default, we use the distribution from the Slide-seq kidney dataset with a median of 140 reads/ 80 UMI per bead. The experimental distribution of reads per bead is used to simulate the variation of bead qualities encountered in practice. The satellite barcodes are also generated based on an experimental distribution, as we observed that the 65,000 8-base barcodes do not occur uniformly in practice.\n",
    "\n",
    "The default parameters can be changed to simulate different sized areas, satellite densities, diffusion constants, or sequencing depths. A variety of bead read distributions based on the Slide-seq kidney are cerebellum tissues samples are available in the data/bead-read-distribution folder. "
   ]
  },
  {
   "cell_type": "code",
   "execution_count": 2,
   "id": "bored-power",
   "metadata": {},
   "outputs": [],
   "source": [
    "# Define parameters for the run\n",
    "SEED = 42\n",
    "NUM_PROC = 32\n",
    "\n",
    "SATELLITES_PER_CM2 = 10**5\n",
    "SIGMA_UM = 50 # Width of the Gaussian kernel representing satellite diffusion in micro-meters\n",
    "SAMPLE = 'kidney_140rpb' # Sample to use for the bead-read distribution\n",
    "\n",
    "BEADS_PER_CM2 = 10**6\n",
    "AREA_CM2 = 0.1\n",
    "\n",
    "BEADS = int(BEADS_PER_CM2 * AREA_CM2)\n",
    "SATELLITES = int(SATELLITES_PER_CM2 * AREA_CM2)\n",
    "BEADS_PER_EDGE = np.floor(np.sqrt(BEADS)).astype(int)\n",
    "\n",
    "BEADWIDTH_UM = 10 # Beadwidth in um\n",
    "EDGE_LENGTH = BEADWIDTH_UM * BEADS_PER_EDGE\n",
    "\n",
    "\n",
    "SIGMA_BEAD = int(SIGMA_UM / BEADWIDTH_UM) # Sigma in beadwidths\n",
    "\n",
    "# Factor by which satellites should extended past beads, this reduces edge effects from beads along the\n",
    "# edge getting fewer reads\n",
    "SIGMA_BUFFER = 3\n",
    "EXT_EDGE_LENGTH = EDGE_LENGTH + 2*SIGMA_BUFFER*SIGMA_UM\n",
    "EXT_RATIO = (EXT_EDGE_LENGTH/EDGE_LENGTH)**2"
   ]
  },
  {
   "cell_type": "code",
   "execution_count": 3,
   "id": "chubby-saturn",
   "metadata": {},
   "outputs": [],
   "source": [
    "# Load the bead-quality and barcode overlap distributions\n",
    "reads_dist = pd.read_csv('../data/bead-quality-distributions/{}.csv'.format(SAMPLE), index_col=0)\n",
    "overlap_dist = pd.read_csv('../data/barcode-distribution.csv', index_col=0)"
   ]
  },
  {
   "cell_type": "markdown",
   "id": "important-easter",
   "metadata": {},
   "source": [
    "### Uniform Grid\n",
    "First, we simulate data on a 0.1 cm$^2$, uniform grid of 10 $\\mu m$ beads."
   ]
  },
  {
   "cell_type": "code",
   "execution_count": 4,
   "id": "expired-feeling",
   "metadata": {},
   "outputs": [
    {
     "ename": "NameError",
     "evalue": "name 'RNG' is not defined",
     "output_type": "error",
     "traceback": [
      "\u001b[0;31m---------------------------------------------------------------------------\u001b[0m",
      "\u001b[0;31mNameError\u001b[0m                                 Traceback (most recent call last)",
      "\u001b[0;32m<ipython-input-4-4c3c146cef11>\u001b[0m in \u001b[0;36m<module>\u001b[0;34m\u001b[0m\n\u001b[1;32m      5\u001b[0m \u001b[0mbead_coords\u001b[0m \u001b[0;34m=\u001b[0m \u001b[0mBEADWIDTH_UM\u001b[0m\u001b[0;34m*\u001b[0m\u001b[0mnp\u001b[0m\u001b[0;34m.\u001b[0m\u001b[0marray\u001b[0m\u001b[0;34m(\u001b[0m\u001b[0;34m[\u001b[0m\u001b[0mx\u001b[0m\u001b[0;34m,\u001b[0m \u001b[0my\u001b[0m\u001b[0;34m]\u001b[0m\u001b[0;34m)\u001b[0m\u001b[0;34m.\u001b[0m\u001b[0mT\u001b[0m\u001b[0;34m\u001b[0m\u001b[0;34m\u001b[0m\u001b[0m\n\u001b[1;32m      6\u001b[0m \u001b[0;34m\u001b[0m\u001b[0m\n\u001b[0;32m----> 7\u001b[0;31m \u001b[0msatellite_coords\u001b[0m \u001b[0;34m=\u001b[0m \u001b[0mEXT_EDGE_LENGTH\u001b[0m\u001b[0;34m*\u001b[0m\u001b[0mRNG\u001b[0m\u001b[0;34m.\u001b[0m\u001b[0mrandom\u001b[0m\u001b[0;34m(\u001b[0m\u001b[0;34m(\u001b[0m\u001b[0mint\u001b[0m\u001b[0;34m(\u001b[0m\u001b[0mSATELLITES\u001b[0m \u001b[0;34m*\u001b[0m \u001b[0mEXT_RATIO\u001b[0m\u001b[0;34m)\u001b[0m\u001b[0;34m,\u001b[0m \u001b[0;36m2\u001b[0m\u001b[0;34m)\u001b[0m\u001b[0;34m)\u001b[0m \u001b[0;34m-\u001b[0m \u001b[0mSIGMA_BUFFER\u001b[0m\u001b[0;34m*\u001b[0m\u001b[0mSIGMA_UM\u001b[0m\u001b[0;34m\u001b[0m\u001b[0;34m\u001b[0m\u001b[0m\n\u001b[0m\u001b[1;32m      8\u001b[0m \u001b[0;34m\u001b[0m\u001b[0m\n\u001b[1;32m      9\u001b[0m \u001b[0mbeads_df\u001b[0m \u001b[0;34m=\u001b[0m \u001b[0mpd\u001b[0m\u001b[0;34m.\u001b[0m\u001b[0mDataFrame\u001b[0m\u001b[0;34m(\u001b[0m\u001b[0mdata\u001b[0m\u001b[0;34m=\u001b[0m\u001b[0mbead_coords\u001b[0m\u001b[0;34m,\u001b[0m \u001b[0mcolumns\u001b[0m\u001b[0;34m=\u001b[0m\u001b[0;34m[\u001b[0m\u001b[0;34m'x'\u001b[0m\u001b[0;34m,\u001b[0m \u001b[0;34m'y'\u001b[0m\u001b[0;34m]\u001b[0m\u001b[0;34m)\u001b[0m\u001b[0;34m\u001b[0m\u001b[0;34m\u001b[0m\u001b[0m\n",
      "\u001b[0;31mNameError\u001b[0m: name 'RNG' is not defined"
     ]
    }
   ],
   "source": [
    "# Generate a dense grid of beads and random satellites extending slighly beyond the beads\n",
    "y, x = np.meshgrid(np.arange(0, BEADS_PER_EDGE), np.arange(0, BEADS_PER_EDGE))\n",
    "y = y.flatten()\n",
    "x = x.flatten()\n",
    "bead_coords = BEADWIDTH_UM*np.array([x, y]).T\n",
    "\n",
    "satellite_coords = EXT_EDGE_LENGTH*RNG.random((int(SATELLITES * EXT_RATIO), 2)) - SIGMA_BUFFER*SIGMA_UM\n",
    "\n",
    "beads_df = pd.DataFrame(data=bead_coords, columns=['x', 'y'])\n",
    "satellites_df = pd.DataFrame(data=satellite_coords, columns=['x', 'y'])"
   ]
  },
  {
   "cell_type": "code",
   "execution_count": null,
   "id": "caring-moscow",
   "metadata": {
    "scrolled": true
   },
   "outputs": [],
   "source": [
    "# Generate an anndata with satellite barcode counts stored in the read matrix\n",
    "adata = simulate.generate_reads(SIGMA_UM, bead_coords, satellite_coords,\n",
    "                                num_proc=NUM_PROC, overlap_dist=overlap_dist['Dist'],\n",
    "                                reads_dist=reads_dist, scaling=False, seed=SEED)\n",
    "\n",
    "adata.write_h5ad('../data/adata/{}_satellites={}_sigma={}.h5ad'.format(SAMPLE, SATELLITES_PER_CM2, SIGMA_UM))"
   ]
  },
  {
   "cell_type": "markdown",
   "id": "creative-button",
   "metadata": {},
   "source": [
    "Next we visualize the simulated data, showing reads from individual colonies. Note that due to the distribution of bead qualities, adjacent beads may differ significantly in the number of reads from the same colony. However the proportion of reads from each nearby colony remains similar, allowing us to reconstruct their positions."
   ]
  },
  {
   "cell_type": "code",
   "execution_count": null,
   "id": "constitutional-system",
   "metadata": {},
   "outputs": [],
   "source": [
    "# Visualize reads from a few satellites\n",
    "visuals.satellite_barcode_counts(adata, n_colonies=3, edge_length_um=BEADWIDTH_UM * BEADS_PER_EDGE, step_um=500)"
   ]
  },
  {
   "cell_type": "markdown",
   "id": "tired-assist",
   "metadata": {},
   "source": [
    "### Slide-seq Kidney Positions\n",
    "\n",
    "Here we repeat the data generation process using ground-truth positions from the kidney sample in the Slide-seq dataset."
   ]
  },
  {
   "cell_type": "code",
   "execution_count": null,
   "id": "rational-litigation",
   "metadata": {},
   "outputs": [],
   "source": [
    "# Generate the dataframes of bead and satellite positions\n",
    "kidney = pd.read_csv('../data/slideseq-positions/kidney_positions.csv', index_col=0)\n",
    "bead_coords = np.array([kidney['x'], kidney['y']]).T\n",
    "\n",
    "satellite_coords = EXT_EDGE_LENGTH*RNG.random((int(SATELLITES * EXT_RATIO), 2)) - SIGMA_BUFFER*SIGMA_UM\n",
    "\n",
    "beads_df = pd.DataFrame(data=bead_coords, columns=['x', 'y'])\n",
    "satellites_df = pd.DataFrame(data=satellite_coords, columns=['x', 'y'])"
   ]
  },
  {
   "cell_type": "code",
   "execution_count": null,
   "id": "instructional-router",
   "metadata": {},
   "outputs": [],
   "source": [
    "# Generate an anndata with satellite barcode counts stored in the read matrix\n",
    "adata = simulate.generate_reads(SIGMA_UM, bead_coords, satellite_coords,\n",
    "                                num_proc=NUM_PROC, overlap_dist=overlap_dist['Dist'],\n",
    "                                reads_dist=reads_dist, scaling=False, seed=SEED)\n",
    "\n",
    "adata.write_h5ad('../data/adata/{}_satellites={}_sigma={}_slideseq_kidney_positions.h5ad'.format(SAMPLE, SATELLITES_PER_CM2, SIGMA_UM))"
   ]
  },
  {
   "cell_type": "code",
   "execution_count": null,
   "id": "handled-sender",
   "metadata": {},
   "outputs": [],
   "source": [
    "# Visualize reads from a few satellites\n",
    "visuals.satellite_barcode_counts(adata, n_colonies=3, edge_length_um=BEADWIDTH_UM*BEADS_PER_EDGE, step_um=500)"
   ]
  },
  {
   "cell_type": "markdown",
   "id": "eligible-heaven",
   "metadata": {},
   "source": [
    "## Supplemental Methods\n",
    "In the supplement we show results for two additional scenarios - using e.Coli colonies to disperse satellite barcodes and standard satellite dispersion with anisotropic diffusion. Below we show how to simulate data to reproduce those results. While we reuse most of the parameters from above, simulating satellite dispersion from bacterial colonies introduces a new parameter of the proportion of the surface covered by bacterial colonies."
   ]
  },
  {
   "cell_type": "code",
   "execution_count": null,
   "id": "motivated-exclusion",
   "metadata": {},
   "outputs": [],
   "source": [
    "# Define parameters for the supplemental methods\n",
    "PROP_COVERAGE = 0.9"
   ]
  },
  {
   "cell_type": "markdown",
   "id": "beginning-usage",
   "metadata": {},
   "source": [
    "### Bacterial Colonies as Satellites\n",
    "\n",
    "We suggest several methods for dispersing satellite barcodes. The figures in the main text simulate satellite barcode generation through gel PCR, where we can potentially generate over 100,000 satellites which may overlap in space. In the supplement, we discuss an alternative generation method using e.Coli colonies. The e.Coli colonies introduce several challenges, including that they may have irregular shapes, we may only be able to generate tens of throusands per square centimeter, and they will not be able to overlap in space as they grow in a single layer.\n",
    "\n",
    "Here we generate data for irregular e.Coli colonies on a dense, uniform grid to recreate the reconstructions shown in the supplement."
   ]
  },
  {
   "cell_type": "code",
   "execution_count": null,
   "id": "minute-recorder",
   "metadata": {},
   "outputs": [],
   "source": [
    "# Simulate and visualize the e.Coli colonies\n",
    "colony_grid = simulate.grow_colonies(BEADS_PER_EDGE, SATELLITES, SIGMA_UM, BEADWIDTH_UM, PROP_COVERAGE=PROP_COVERAG,\n",
    "                                     seed=SEED)\n",
    "visuals.colony_grid(colony_grid, beadwidth=BEADWIDTH_UM, step_um=500)"
   ]
  },
  {
   "cell_type": "code",
   "execution_count": null,
   "id": "dirty-clerk",
   "metadata": {},
   "outputs": [],
   "source": [
    "# Generate an anndata with satellite barcode counts stored in the read matrix\n",
    "adata = simulate.generate_bacterial_reads(colony_grid=colony_grid, sigma_um=SIGMA_UM, beadwidth_um=BEADWIDTH_UM,\n",
    "                                          reads_dist=reads_dist, overlaps_dist=overlap_dist['Dist'],\n",
    "                                          n_sigma_buffer = SIGMA_BUFFER, seed=SEED)\n",
    "\n",
    "adata.write_h5ad('../data/adata/{}_satellites={}_sigma={}_irregular_colonies.h5ad'.format(SAMPLE, SATELLITES_PER_CM2, SIGMA_UM))"
   ]
  },
  {
   "cell_type": "code",
   "execution_count": null,
   "id": "agreed-cement",
   "metadata": {},
   "outputs": [],
   "source": [
    "# Visualize reads from a few satellites\n",
    "visuals.satellite_barcode_counts(adata, n_colonies=3, edge_length_um=EDGE_LENGTH, step_um=500)"
   ]
  }
 ],
 "metadata": {
  "finalized": {
   "timestamp": 1661198271669,
   "trusted": true
  },
  "hide_input": false,
  "kernelspec": {
   "display_name": "Python 3",
   "language": "python",
   "name": "python3"
  },
  "language_info": {
   "codemirror_mode": {
    "name": "ipython",
    "version": 3
   },
   "file_extension": ".py",
   "mimetype": "text/x-python",
   "name": "python",
   "nbconvert_exporter": "python",
   "pygments_lexer": "ipython3",
   "version": "3.7.9"
  }
 },
 "nbformat": 4,
 "nbformat_minor": 5
}
