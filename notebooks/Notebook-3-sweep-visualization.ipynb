{
 "cells": [
  {
   "cell_type": "markdown",
   "id": "front-perception",
   "metadata": {},
   "source": [
    "# Visualize Parameter Sweep\n",
    "In this notebook we reproduce the sweep summary figures, loading precomputed data to show the best median reconstruction distances that can be achieved over a large grid of diffusion constants, sequencing depths, and satellite densities."
   ]
  },
  {
   "cell_type": "code",
   "execution_count": null,
   "id": "radio-tobacco",
   "metadata": {},
   "outputs": [],
   "source": [
    "import anndata\n",
    "import umap\n",
    "import sys\n",
    "import scanpy\n",
    "import numpy as np\n",
    "from matplotlib import pyplot as plt\n",
    "import json\n",
    "\n",
    "sys.path.append(\"../functions/\")\n",
    "import alignment\n",
    "import visuals"
   ]
  },
  {
   "cell_type": "code",
   "execution_count": null,
   "id": "anonymous-facial",
   "metadata": {},
   "outputs": [],
   "source": [
    "# Define the parameters for the sweep\n",
    "COLONIES = [25000, 50000, 100000, 250000]\n",
    "SIGMAS_UM = [30, 50, 75, 100]\n",
    "MEADIAN_RPB = [10, 30, 50, 70, 90, 140, 280, 555, 1110, 2225, 4445]"
   ]
  },
  {
   "cell_type": "markdown",
   "id": "incomplete-prompt",
   "metadata": {},
   "source": [
    "First we load dictionaries of the pre-computed UMAPs and ground-truth coordinates. Since the sBC counts only give information about relative position, the embedding may be translated, shrunken, expanded, rotated, or flipped relative to the ground truth. To compare to the ground truth, we optimize for the best alignment of a simple linear transformation of the embedding. So additionally we align each UMAP to the ground truth."
   ]
  },
  {
   "cell_type": "code",
   "execution_count": null,
   "id": "limited-israel",
   "metadata": {},
   "outputs": [],
   "source": [
    "# Load the precomputed UMAPs and ground-truth coordinates\n",
    "raw_umaps = json.load()\n",
    "ground_truth = json.load()"
   ]
  },
  {
   "cell_type": "code",
   "execution_count": null,
   "id": "global-helen",
   "metadata": {},
   "outputs": [],
   "source": [
    "# Align each UMAP to the ground truth\n",
    "umaps = {}\n",
    "\n",
    "for rpb in MEDIAN_RPBS:\n",
    "    for s in SIGMAS_UM:\n",
    "        for c in COLONIES:\n",
    "            umaps['{}-{}-{}'.format(rpb, s, c)] = "
   ]
  }
 ],
 "metadata": {
  "finalized": {
   "timestamp": 1661187230572,
   "trusted": true
  },
  "hide_input": false,
  "kernelspec": {
   "display_name": "Python 3",
   "language": "python",
   "name": "python3"
  },
  "language_info": {
   "codemirror_mode": {
    "name": "ipython",
    "version": 3
   },
   "file_extension": ".py",
   "mimetype": "text/x-python",
   "name": "python",
   "nbconvert_exporter": "python",
   "pygments_lexer": "ipython3",
   "version": "3.7.9"
  }
 },
 "nbformat": 4,
 "nbformat_minor": 5
}
