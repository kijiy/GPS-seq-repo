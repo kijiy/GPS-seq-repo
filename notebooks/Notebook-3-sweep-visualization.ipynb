{
 "cells": [
  {
   "cell_type": "markdown",
   "id": "front-perception",
   "metadata": {},
   "source": [
    "# Visualize Parameter Sweep\n",
    "In this notebook we reproduce the sweep summary figures, loading precomputed data to show the best median reconstruction distances that can be achieved over a large grid of diffusion constants, sequencing depths, and satellite densities."
   ]
  },
  {
   "cell_type": "code",
   "execution_count": null,
   "id": "radio-tobacco",
   "metadata": {},
   "outputs": [],
   "source": [
    "import anndata\n",
    "import umap\n",
    "import sys\n",
    "import scanpy\n",
    "import numpy as np\n",
    "from matplotlib import pyplot as plt\n",
    "\n",
    "sys.path.append(\"../functions/\")\n",
    "import alignment\n",
    "import visuals"
   ]
  },
  {
   "cell_type": "code",
   "execution_count": null,
   "id": "anonymous-facial",
   "metadata": {},
   "outputs": [],
   "source": [
    "# Define the parameters for the sweep\n",
    "COLONIES = [25000, 50000, 100000, 250000]\n",
    "SIGMA_UM = [30, 50, 75, 100]\n",
    "SAMPLES = ['kidney_rpb10', 'kidney_rpb30', 'kidney_rpb50', 'kidney_rpb70', 'kidney_rpb90', 'kidney_rate003125', \n",
    "           'kidney_rate00625', 'kidney_rate0125', 'kidney_rate025', 'kidney_rate05', 'kidney_rate1']"
   ]
  },
  {
   "cell_type": "code",
   "execution_count": null,
   "id": "limited-israel",
   "metadata": {},
   "outputs": [],
   "source": [
    "# Load the precomputed UMAPs\n"
   ]
  }
 ],
 "metadata": {
  "finalized": {
   "timestamp": 1661187230572,
   "trusted": true
  },
  "hide_input": false,
  "kernelspec": {
   "display_name": "Python 3",
   "language": "python",
   "name": "python3"
  },
  "language_info": {
   "codemirror_mode": {
    "name": "ipython",
    "version": 3
   },
   "file_extension": ".py",
   "mimetype": "text/x-python",
   "name": "python",
   "nbconvert_exporter": "python",
   "pygments_lexer": "ipython3",
   "version": "3.7.9"
  }
 },
 "nbformat": 4,
 "nbformat_minor": 5
}
